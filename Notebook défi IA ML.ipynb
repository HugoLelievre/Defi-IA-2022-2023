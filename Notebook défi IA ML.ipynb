{
 "cells": [
  {
   "cell_type": "markdown",
   "id": "ffe033d5",
   "metadata": {},
   "source": [
    "# Défi IA"
   ]
  },
  {
   "cell_type": "markdown",
   "id": "72249327",
   "metadata": {},
   "source": [
    "### Imports"
   ]
  },
  {
   "cell_type": "code",
   "execution_count": 1,
   "id": "597c0e1e",
   "metadata": {},
   "outputs": [],
   "source": [
    "import pandas as pd\n",
    "import numpy as np\n",
    "import matplotlib.pyplot as plt\n",
    "import math\n",
    "# import eli5\n",
    "# import shap\n",
    "# import xgboost as xgb\n",
    "# from eli5.sklearn import PermutationImportance\n",
    "from sklearn.model_selection import train_test_split \n",
    "from sklearn import linear_model\n",
    "from sklearn.neural_network import MLPRegressor\n",
    "from sklearn.multioutput import MultiOutputRegressor\n",
    "from sklearn.metrics import mean_squared_error\n",
    "import seaborn as sns\n",
    "import numpy as np\n",
    "from sklearn.metrics import r2_score, mean_squared_error\n",
    "from sklearn.model_selection import GridSearchCV\n",
    "from keras.models import Sequential\n",
    "from keras.layers import Dense\n",
    "from sklearn.neural_network import MLPClassifier\n",
    "from sklearn.metrics import mean_squared_error\n",
    "from sklearn.metrics import accuracy_score\n",
    "from sklearn.metrics import plot_confusion_matrix\n",
    "from sklearn.metrics import classification_report\n",
    "from sklearn.model_selection import GridSearchCV\n",
    "from keras.wrappers.scikit_learn import KerasClassifier\n",
    "from sklearn.model_selection import cross_val_score\n",
    "from sklearn.model_selection import KFold\n",
    "from sklearn.ensemble import RandomForestRegressor\n",
    "from sklearn.linear_model import LinearRegression\n",
    "from sklearn.neural_network import MLPRegressor\n",
    "from sklearn.ensemble import GradientBoostingRegressor\n",
    "from sklearn.ensemble import AdaBoostRegressor\n",
    "#from sklearn.preprocessing import StandardScaler"
   ]
  },
  {
   "cell_type": "code",
   "execution_count": 2,
   "id": "9e74dfb2",
   "metadata": {},
   "outputs": [
    {
     "data": {
      "text/html": [
       "<div>\n",
       "<style scoped>\n",
       "    .dataframe tbody tr th:only-of-type {\n",
       "        vertical-align: middle;\n",
       "    }\n",
       "\n",
       "    .dataframe tbody tr th {\n",
       "        vertical-align: top;\n",
       "    }\n",
       "\n",
       "    .dataframe thead th {\n",
       "        text-align: right;\n",
       "    }\n",
       "</style>\n",
       "<table border=\"1\" class=\"dataframe\">\n",
       "  <thead>\n",
       "    <tr style=\"text-align: right;\">\n",
       "      <th></th>\n",
       "      <th>hotel_id</th>\n",
       "      <th>price</th>\n",
       "      <th>city</th>\n",
       "      <th>date</th>\n",
       "      <th>language</th>\n",
       "      <th>mobile</th>\n",
       "      <th>avatar_id</th>\n",
       "      <th>request_number</th>\n",
       "    </tr>\n",
       "  </thead>\n",
       "  <tbody>\n",
       "    <tr>\n",
       "      <th>0</th>\n",
       "      <td>300</td>\n",
       "      <td>145</td>\n",
       "      <td>copenhagen</td>\n",
       "      <td>2</td>\n",
       "      <td>hungarian</td>\n",
       "      <td>0</td>\n",
       "      <td>28434</td>\n",
       "      <td>1.0</td>\n",
       "    </tr>\n",
       "    <tr>\n",
       "      <th>1</th>\n",
       "      <td>855</td>\n",
       "      <td>311</td>\n",
       "      <td>copenhagen</td>\n",
       "      <td>2</td>\n",
       "      <td>hungarian</td>\n",
       "      <td>0</td>\n",
       "      <td>28434</td>\n",
       "      <td>1.0</td>\n",
       "    </tr>\n",
       "    <tr>\n",
       "      <th>2</th>\n",
       "      <td>757</td>\n",
       "      <td>151</td>\n",
       "      <td>copenhagen</td>\n",
       "      <td>2</td>\n",
       "      <td>hungarian</td>\n",
       "      <td>0</td>\n",
       "      <td>28434</td>\n",
       "      <td>1.0</td>\n",
       "    </tr>\n",
       "    <tr>\n",
       "      <th>3</th>\n",
       "      <td>805</td>\n",
       "      <td>202</td>\n",
       "      <td>copenhagen</td>\n",
       "      <td>2</td>\n",
       "      <td>hungarian</td>\n",
       "      <td>0</td>\n",
       "      <td>28434</td>\n",
       "      <td>1.0</td>\n",
       "    </tr>\n",
       "    <tr>\n",
       "      <th>4</th>\n",
       "      <td>930</td>\n",
       "      <td>120</td>\n",
       "      <td>copenhagen</td>\n",
       "      <td>2</td>\n",
       "      <td>hungarian</td>\n",
       "      <td>0</td>\n",
       "      <td>28434</td>\n",
       "      <td>1.0</td>\n",
       "    </tr>\n",
       "    <tr>\n",
       "      <th>...</th>\n",
       "      <td>...</td>\n",
       "      <td>...</td>\n",
       "      <td>...</td>\n",
       "      <td>...</td>\n",
       "      <td>...</td>\n",
       "      <td>...</td>\n",
       "      <td>...</td>\n",
       "      <td>...</td>\n",
       "    </tr>\n",
       "    <tr>\n",
       "      <th>163000</th>\n",
       "      <td>720</td>\n",
       "      <td>280</td>\n",
       "      <td>copenhagen</td>\n",
       "      <td>31</td>\n",
       "      <td>croatian</td>\n",
       "      <td>0</td>\n",
       "      <td>76537</td>\n",
       "      <td>1.0</td>\n",
       "    </tr>\n",
       "    <tr>\n",
       "      <th>163001</th>\n",
       "      <td>994</td>\n",
       "      <td>164</td>\n",
       "      <td>copenhagen</td>\n",
       "      <td>31</td>\n",
       "      <td>croatian</td>\n",
       "      <td>0</td>\n",
       "      <td>76537</td>\n",
       "      <td>1.0</td>\n",
       "    </tr>\n",
       "    <tr>\n",
       "      <th>163002</th>\n",
       "      <td>744</td>\n",
       "      <td>173</td>\n",
       "      <td>copenhagen</td>\n",
       "      <td>31</td>\n",
       "      <td>croatian</td>\n",
       "      <td>0</td>\n",
       "      <td>76537</td>\n",
       "      <td>1.0</td>\n",
       "    </tr>\n",
       "    <tr>\n",
       "      <th>163003</th>\n",
       "      <td>124</td>\n",
       "      <td>277</td>\n",
       "      <td>copenhagen</td>\n",
       "      <td>31</td>\n",
       "      <td>croatian</td>\n",
       "      <td>0</td>\n",
       "      <td>76537</td>\n",
       "      <td>1.0</td>\n",
       "    </tr>\n",
       "    <tr>\n",
       "      <th>163004</th>\n",
       "      <td>365</td>\n",
       "      <td>96</td>\n",
       "      <td>copenhagen</td>\n",
       "      <td>31</td>\n",
       "      <td>croatian</td>\n",
       "      <td>0</td>\n",
       "      <td>76537</td>\n",
       "      <td>1.0</td>\n",
       "    </tr>\n",
       "  </tbody>\n",
       "</table>\n",
       "<p>163005 rows × 8 columns</p>\n",
       "</div>"
      ],
      "text/plain": [
       "        hotel_id  price        city  date   language  mobile  avatar_id  \\\n",
       "0            300    145  copenhagen     2  hungarian       0      28434   \n",
       "1            855    311  copenhagen     2  hungarian       0      28434   \n",
       "2            757    151  copenhagen     2  hungarian       0      28434   \n",
       "3            805    202  copenhagen     2  hungarian       0      28434   \n",
       "4            930    120  copenhagen     2  hungarian       0      28434   \n",
       "...          ...    ...         ...   ...        ...     ...        ...   \n",
       "163000       720    280  copenhagen    31   croatian       0      76537   \n",
       "163001       994    164  copenhagen    31   croatian       0      76537   \n",
       "163002       744    173  copenhagen    31   croatian       0      76537   \n",
       "163003       124    277  copenhagen    31   croatian       0      76537   \n",
       "163004       365     96  copenhagen    31   croatian       0      76537   \n",
       "\n",
       "        request_number  \n",
       "0                  1.0  \n",
       "1                  1.0  \n",
       "2                  1.0  \n",
       "3                  1.0  \n",
       "4                  1.0  \n",
       "...                ...  \n",
       "163000             1.0  \n",
       "163001             1.0  \n",
       "163002             1.0  \n",
       "163003             1.0  \n",
       "163004             1.0  \n",
       "\n",
       "[163005 rows x 8 columns]"
      ]
     },
     "execution_count": 2,
     "metadata": {},
     "output_type": "execute_result"
    }
   ],
   "source": [
    "bdd_all = pd.read_csv(\"pricing_requests.csv\")\n",
    "bdd = bdd_all[[\"hotel_id\",\"price\",\"city\",\"date\",\"language\",\"mobile\",\"avatar_id\",\"request_number\"]].copy()\n",
    "bdd"
   ]
  },
  {
   "cell_type": "markdown",
   "id": "6a3e5ecd",
   "metadata": {},
   "source": [
    "### On split nos données en un échantillon d'apprentissage et un échantillon test"
   ]
  },
  {
   "cell_type": "code",
   "execution_count": 3,
   "id": "ade2ea31",
   "metadata": {},
   "outputs": [],
   "source": [
    "bdd_dummies = pd.get_dummies(data=bdd, columns = ['hotel_id','city', 'language'], drop_first=True)\n",
    "data_train,data_test = train_test_split(bdd_dummies,test_size=0.25,random_state=1)\n",
    "X_train = data_train.loc[:,data_train.columns != \"price\"].copy()\n",
    "Y_train = data_train.loc[:,\"price\"].copy()\n",
    "X_test = data_test.loc[:,data_train.columns != \"price\"].copy()\n",
    "Y_test = data_test.loc[:,\"price\"].copy()\n",
    "\n",
    "X_all = bdd_dummies.loc[:,bdd_dummies.columns != \"price\"].copy()\n",
    "Y_all = bdd_dummies.loc[:,\"price\"].copy()\n",
    "# # On convertit les variables catégorielles en indicatrices \n",
    "# X_train = pd.get_dummies(data=X_train, columns = ['hotel_id','city', 'language', 'mobile','avatar_id'], drop_first=True)\n",
    "# X_test = pd.get_dummies(data=X_test, columns = ['hotel_id','city', 'language', 'mobile','avatar_id'], drop_first=True)"
   ]
  },
  {
   "cell_type": "markdown",
   "id": "32f56e3b",
   "metadata": {},
   "source": [
    "### On entraine nos modèles et on regarde l'erreur RMSE entre Y_test et Y_pred "
   ]
  },
  {
   "cell_type": "code",
   "execution_count": 20,
   "id": "6c5accef",
   "metadata": {},
   "outputs": [
    {
     "name": "stdout",
     "output_type": "stream",
     "text": [
      "5110962224.579757\n"
     ]
    }
   ],
   "source": [
    "#LinearRegression\n",
    "lr = LinearRegression().fit(X_train, Y_train)\n",
    "y_pred_lr = lr.predict(X_test)\n",
    "RMSE_lr = math.sqrt(mean_squared_error(Y_test, y_pred_lr))\n",
    "print(RMSE_lr)"
   ]
  },
  {
   "cell_type": "code",
   "execution_count": 70,
   "id": "458edbad",
   "metadata": {},
   "outputs": [
    {
     "name": "stdout",
     "output_type": "stream",
     "text": [
      "5.537442648450712\n"
     ]
    }
   ],
   "source": [
    "##RandomForestRegressor\n",
    "rf = RandomForestRegressor().fit(X_train, Y_train)\n",
    "y_pred_rf = rf.predict(X_test)\n",
    "RMSE_rf = math.sqrt(mean_squared_error(Y_test,y_pred_rf))\n",
    "print(RMSE_rf)\n"
   ]
  },
  {
   "cell_type": "code",
   "execution_count": 5,
   "id": "621e7fd5",
   "metadata": {},
   "outputs": [
    {
     "name": "stdout",
     "output_type": "stream",
     "text": [
      "24.93547053656453\n"
     ]
    }
   ],
   "source": [
    "##Multi-Layer Perceptron\n",
    "# mlp = MLPRegressor().fit(X_train, Y_train)\n",
    "y_pred_mlp = mlp.predict(X_test)\n",
    "RMSE_mlp = math.sqrt(mean_squared_error(Y_test, y_pred_mlp))\n",
    "print(RMSE_mlp)"
   ]
  },
  {
   "cell_type": "code",
   "execution_count": null,
   "id": "8b8ce63b",
   "metadata": {},
   "outputs": [],
   "source": [
    "##GradientBoostRegressor\n",
    "gbr = GradientBoostingRegressor().fit(X_train, Y_train)\n",
    "y_pred_gbr = gbr.predict(X_test)\n",
    "RMSE_gbr = math.sqrt(mean_squared_error(Y_test, y_pred_gbr))"
   ]
  },
  {
   "cell_type": "code",
   "execution_count": null,
   "id": "d7855a77",
   "metadata": {},
   "outputs": [],
   "source": [
    "##XGboostRegressor\n",
    "xgbr = (xgb.XGBRegressor(verbosity=0)).fit(X_train, Y_train)\n",
    "y_pred_xgbr = xgbr.predict(Y_test)\n",
    "RMSE_xgbr = math.sqrt(mean_squared_error(Y_test, y_pred_xgbr))"
   ]
  },
  {
   "cell_type": "code",
   "execution_count": null,
   "id": "c5e1427c",
   "metadata": {},
   "outputs": [],
   "source": [
    "#AdaBoostRegressor\n",
    "abr = AdaBoostRegressor().fit(X_train, Y_train)\n",
    "y_pred_abr = adr.predict(X_test)\n",
    "RMSE_abr = math.sqrt(mean_squared_error(Y_test, y_pred_abr))"
   ]
  },
  {
   "cell_type": "markdown",
   "id": "a8488f20",
   "metadata": {},
   "source": [
    "### On regarde l'importance de chaque variable dans chacun des modèles entraînés"
   ]
  },
  {
   "cell_type": "code",
   "execution_count": 72,
   "id": "50f2fc5f",
   "metadata": {},
   "outputs": [
    {
     "name": "stdout",
     "output_type": "stream",
     "text": [
      "Index(['hotel_id', 'price', 'city', 'date', 'language', 'mobile', 'avatar_id',\n",
      "       'request_number'],\n",
      "      dtype='object')\n"
     ]
    }
   ],
   "source": [
    "#feature_names = [\"hotel_id\", \"city\", \"date\", \"language\", \"mobile\", \"avatar_id\", \"request_number\"]\n",
    "feature_names = X_train.columns\n",
    "print(bdd.columns)"
   ]
  },
  {
   "cell_type": "code",
   "execution_count": 73,
   "id": "b3e8e100",
   "metadata": {},
   "outputs": [],
   "source": [
    "## Avec Permutation Importance \n",
    "features_importance_dict = {}\n",
    "for model, name in zip([lr, rf, mlp], ['logistic regression', 'random forest', 'multi layer perceptron']):\n",
    "  plt.figure()\n",
    "  permutation_import = PermutationImportance(model).fit(X_test,Y_test)\n",
    "  features_importance = {'Feature_name':feature_names, 'Importance':permutation_import.feature_importances_}  \n",
    "  features_importance = pd.DataFrame(features_importance) # dataframe containing the features names and their importance\n",
    "  features_importance = features_importance.sort_values(['Importance'], ascending = True) # sort the dataframe by feature importance\n",
    "  features_importance_dict[name] = features_importance #add the dataframe to your dictionnary\n",
    "  ax = sns.barplot(x=\"Importance\", y=\"Feature_name\", data=features_importance) #plot the model's features importance\n",
    "  plt.title(name)"
   ]
  },
  {
   "cell_type": "code",
   "execution_count": null,
   "id": "58781872",
   "metadata": {},
   "outputs": [],
   "source": [
    "## Avec la methode de Shapley\n",
    "explainer = shap.KernelExplainer(lr.predict, X_train)\n",
    "shap_values = explainer.shap_values(X_test.iloc[0:20, :])\n",
    "shap.summary_plot(shap_values, X_test.iloc[0:20,:])"
   ]
  }
 ],
 "metadata": {
  "kernelspec": {
   "display_name": "Python 3.8.13 ('AIF')",
   "language": "python",
   "name": "python3"
  },
  "language_info": {
   "codemirror_mode": {
    "name": "ipython",
    "version": 3
   },
   "file_extension": ".py",
   "mimetype": "text/x-python",
   "name": "python",
   "nbconvert_exporter": "python",
   "pygments_lexer": "ipython3",
   "version": "3.8.13"
  },
  "vscode": {
   "interpreter": {
    "hash": "e6f94090452fa9c32f5a802a314c6b5b13ae6a60f4af40408d6d7196c6ed1613"
   }
  }
 },
 "nbformat": 4,
 "nbformat_minor": 5
}
