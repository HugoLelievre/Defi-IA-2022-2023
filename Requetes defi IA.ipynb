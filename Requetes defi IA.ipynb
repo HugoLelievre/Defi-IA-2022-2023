{
 "cells": [
  {
   "cell_type": "code",
   "execution_count": 1,
   "metadata": {},
   "outputs": [],
   "source": [
    "import urllib.parse\n",
    "import numpy as np\n",
    "import pandas as pd\n",
    "import random as rd\n",
    "from scipy.stats import bernoulli\n",
    "\n",
    "domain = \"51.91.251.0\"\n",
    "port = 3000\n",
    "host = f\"http://{domain}:{port}\"\n",
    "path = lambda x: urllib.parse.urljoin(host, x)"
   ]
  },
  {
   "cell_type": "code",
   "execution_count": 2,
   "metadata": {},
   "outputs": [
    {
     "data": {
      "text/plain": [
       "<Response [409]>"
      ]
     },
     "execution_count": 2,
     "metadata": {},
     "output_type": "execute_result"
    }
   ],
   "source": [
    "import requests\n",
    "\n",
    "user_id = '70868297-ced7-46d3-8a7a-4ca528e49009'\n",
    "name = 'hugo-first-avatar'\n",
    "r = requests.post(path(f'avatars/{user_id}/{name}'))\n",
    "r"
   ]
  },
  {
   "cell_type": "code",
   "execution_count": 3,
   "metadata": {},
   "outputs": [],
   "source": [
    "pricing_requests = pd.read_csv(\"pricing_requests.csv\")\n",
    "test_sample = pd.read_csv(\"test_set.csv\")"
   ]
  },
  {
   "cell_type": "code",
   "execution_count": 4,
   "metadata": {},
   "outputs": [],
   "source": [
    "list_cities = [\"amsterdam\", \"copenhagen\", \"madrid\", \"paris\", \"rome\", \"sofia\", \"valletta\", \"vienna\", \"vilnius\"]\n",
    "list_date = [k for k in range(45)]\n",
    "list_languages = [\"austrian\", \"belgian\", \"bulgarian\", \"croatian\", \"cypriot\", \"czech\", \"danish\", \"dutch\",\n",
    "                  \"estonian\", \"finnish\", \"french\", \"german\", \"greek\", \"hungarian\", \"irish\", \"italian\",\n",
    "                  \"latvian\", \"lithuanian\", \"luxembourgish\", \"maltese\", \"polish\", \"portuguese\", \"romanian\",\n",
    "                  \"slovakian\", \"slovene\", \"spanish\", \"swedish\"]"
   ]
  },
  {
   "cell_type": "code",
   "execution_count": 5,
   "metadata": {},
   "outputs": [],
   "source": [
    "def GetDatesTest(test_sample):\n",
    "    list_dates_test = []\n",
    "    for avatar_id in test_sample.avatar_id.unique():\n",
    "        dates = [ind for ind in test_sample.loc[test_sample.avatar_id == avatar_id, \"date\"].unique()]\n",
    "        list_dates_test.append(dates)\n",
    "    return(list_dates_test)\n",
    "\n",
    "def GetCitiesLanguagesTest(test_sample):\n",
    "    list_cities_languages_test = []\n",
    "    for rq_nb in test_sample.order_requests.unique():\n",
    "        temp = test_sample.loc[test_sample.order_requests == rq_nb, [\"city\",\"language\"]].drop_duplicates()\n",
    "        list_cities_languages_test.append([temp.city.values[0], temp.language.values[0]])\n",
    "    return(list_cities_languages_test)\n",
    "\n",
    "def CreateWiseRequestParams(nb_avatars, list_dates, list_cities_languages, p_mobile):\n",
    "    list_params = []\n",
    "    for i in range(nb_avatars):\n",
    "        num_avatar = rd.randint(0, 100000)\n",
    "        name = \"AvatarNumero\"+str(num_avatar)\n",
    "        dates_avatar = rd.choice(list_dates)\n",
    "        city_language = rd.choice(list_cities_languages)\n",
    "        mobile = np.random.binomial(1,p_mobile)\n",
    "        language = city_language[1]\n",
    "        city = city_language[0]\n",
    "        r = requests.post(path(f\"avatars/{user_id}/{name}\"))\n",
    "        for date in np.sort(dates_avatar)[::-1]:\n",
    "            params = {\"avatar_name\": name,\n",
    "                       \"language\": language,\n",
    "                       \"city\": city,\n",
    "                       \"date\": date,\n",
    "                       \"mobile\": mobile,\n",
    "                    }\n",
    "            list_params.append(params)\n",
    "    return(list_params)\n",
    "\n",
    "list_dates_test = GetDatesTest(test_sample)\n",
    "list_cities_languages_test = GetCitiesLanguagesTest(test_sample)\n",
    "temp_mobile = test_sample.loc[:,[\"mobile\",\"order_requests\"]].drop_duplicates()\n",
    "p_mobile_test = len(temp_mobile[temp_mobile.mobile == 1])/len(temp_mobile)\n"
   ]
  },
  {
   "cell_type": "code",
   "execution_count": 6,
   "metadata": {},
   "outputs": [],
   "source": [
    "def CreateRequestParams(nb_avatars, nb_requests):\n",
    "    list_params = []\n",
    "    for i in range(nb_avatars):\n",
    "        num_avatar = rd.randint(0, 100000)\n",
    "        name = \"AvatarNumero\"+str(num_avatar)\n",
    "        if nb_requests > 1 :\n",
    "            date = np.random.randint(12,44)\n",
    "        else: date = rd.choice(list_date)\n",
    "        r = requests.post(path(f\"avatars/{user_id}/{name}\"))\n",
    "        for j in range(nb_requests):\n",
    "            change = np.random.binomial(1,0.7)\n",
    "            if change or j == 0:\n",
    "                language = rd.choice(list_languages)\n",
    "                city = rd.choice(list_cities)\n",
    "                mobile = rd.randint(0,1)\n",
    "            params = {\"avatar_name\": name,\n",
    "                       \"language\": language,\n",
    "                       \"city\": city,\n",
    "                       \"date\": date,\n",
    "                       \"mobile\": mobile,\n",
    "                    }\n",
    "            date = date - np.random.randint(1,4)\n",
    "            if params not in list_params:\n",
    "                list_params.append(params)\n",
    "    return(list_params)"
   ]
  },
  {
   "cell_type": "code",
   "execution_count": 7,
   "metadata": {},
   "outputs": [],
   "source": [
    "def AddRequestOrder(df, request_order = 1):\n",
    "    data = df.copy()\n",
    "    data[\"request_order\"] = np.nan\n",
    "    data[\"avatar_nb_requests\"] = np.nan\n",
    "    avatar_id = data.loc[0,\"avatar_id\"]\n",
    "    date = data.loc[0,\"date\"]\n",
    "    city = data.loc[0,\"city\"]\n",
    "    language = data.loc[0,\"language\"]\n",
    "    mobile = data.loc[0,\"mobile\"]\n",
    "    avatar_nb_requests = 1\n",
    "    for k in range(len(data)):\n",
    "        if data.loc[k,\"avatar_id\"] != avatar_id :\n",
    "            avatar_id = data.loc[k,\"avatar_id\"]\n",
    "            date = data.loc[k,\"date\"]\n",
    "            city = data.loc[k,\"city\"]\n",
    "            language = data.loc[k,\"language\"]\n",
    "            mobile = data.loc[k,\"mobile\"]\n",
    "            avatar_nb_requests = 1\n",
    "            request_order += 1\n",
    "        elif data.loc[k,\"date\"] != date or data.loc[k,\"city\"] != city or data.loc[k,\"language\"] != language or data.loc[k,\"mobile\"] != mobile:\n",
    "            date = data.loc[k,\"date\"]\n",
    "            city = data.loc[k,\"city\"]\n",
    "            language = data.loc[k,\"language\"]\n",
    "            mobile = data.loc[k,\"mobile\"]\n",
    "            avatar_nb_requests += 1\n",
    "            request_order += 1\n",
    "        data.loc[k,\"request_order\"] = request_order\n",
    "        data.loc[k,\"avatar_nb_requests\"] = avatar_nb_requests\n",
    "    return data\n",
    "        "
   ]
  },
  {
   "cell_type": "code",
   "execution_count": 8,
   "metadata": {},
   "outputs": [],
   "source": [
    "def MakeRequests(list_params):\n",
    "    pricing_requests = []\n",
    "    for params in list_params:\n",
    "        try:\n",
    "            req = requests.get(path(f\"pricing/{user_id}\"), params=params)\n",
    "            pricing_requests.append(\n",
    "            pd.DataFrame(req.json()['prices']).assign(**req.json()['request']))\n",
    "        except KeyError:\n",
    "            print(\"vla ti pas une erreur bondiou\")\n",
    "    pricing_requests = pd.concat(pricing_requests, ignore_index = True)\n",
    "    return(pricing_requests)\n",
    "\n",
    "def MergeRequestsResults(Big_df, New_df):\n",
    "    big_df = Big_df.copy()\n",
    "    request_order = big_df.request_order[len(big_df)-1] + 1\n",
    "    new_df = AddRequestOrder(New_df, request_order = request_order)\n",
    "    res = pd.concat([big_df, new_df], ignore_index = True)\n",
    "    return(res)"
   ]
  },
  {
   "cell_type": "code",
   "execution_count": 11,
   "metadata": {},
   "outputs": [],
   "source": [
    "new_pricing_requests = pd.read_csv('new_pricing_requests.csv')"
   ]
  },
  {
   "cell_type": "code",
   "execution_count": null,
   "metadata": {},
   "outputs": [],
   "source": [
    "list_params = CreateWiseRequestParams(1, list_dates_test, list_cities_languages_test, p_mobile_test)\n",
    "New_df = MakeRequests(list_params)\n",
    "new_pricing_requests = MergeRequestsResults(new_pricing_requests, New_df)"
   ]
  },
  {
   "cell_type": "code",
   "execution_count": 13,
   "metadata": {},
   "outputs": [],
   "source": [
    "new_pricing_requests.to_csv('new_pricing_requests.csv', index=False)"
   ]
  },
  {
   "cell_type": "code",
   "execution_count": null,
   "metadata": {},
   "outputs": [],
   "source": []
  }
 ],
 "metadata": {
  "kernelspec": {
   "display_name": "Python 3.8.13 ('AIF')",
   "language": "python",
   "name": "python3"
  },
  "language_info": {
   "codemirror_mode": {
    "name": "ipython",
    "version": 3
   },
   "file_extension": ".py",
   "mimetype": "text/x-python",
   "name": "python",
   "nbconvert_exporter": "python",
   "pygments_lexer": "ipython3",
   "version": "3.8.13 | packaged by conda-forge | (default, Mar 25 2022, 05:59:00) [MSC v.1929 64 bit (AMD64)]"
  },
  "orig_nbformat": 4,
  "vscode": {
   "interpreter": {
    "hash": "e6f94090452fa9c32f5a802a314c6b5b13ae6a60f4af40408d6d7196c6ed1613"
   }
  }
 },
 "nbformat": 4,
 "nbformat_minor": 2
}
