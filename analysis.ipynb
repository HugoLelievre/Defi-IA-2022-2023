{
 "cells": [
  {
   "attachments": {},
   "cell_type": "markdown",
   "metadata": {},
   "source": [
    "# Défi IA"
   ]
  },
  {
   "attachments": {},
   "cell_type": "markdown",
   "metadata": {},
   "source": [
    "Alexia Grenouillat - Arthur Boivert - Hugo Lelièvre"
   ]
  },
  {
   "attachments": {},
   "cell_type": "markdown",
   "metadata": {},
   "source": [
    "On charge tout d'abord les bibliothèques dont nous auront besoin pour la suite."
   ]
  },
  {
   "cell_type": "code",
   "execution_count": 67,
   "metadata": {},
   "outputs": [],
   "source": [
    "import numpy as np\n",
    "import pandas as pd\n",
    "import matplotlib.pyplot as plt\n",
    "import seaborn as sns\n",
    "from sklearn.ensemble import RandomForestRegressor\n",
    "from sklearn.model_selection import train_test_split \n",
    "from sklearn.linear_model import LinearRegression\n",
    "import xgboost as xgb\n",
    "from xgboost import XGBClassifier\n",
    "from xgboost import plot_importance\n",
    "from xgboost import cv\n"
   ]
  },
  {
   "cell_type": "markdown",
   "metadata": {},
   "source": [
    "## I - Analyse des données obtenues avec les requêtes"
   ]
  },
  {
   "attachments": {},
   "cell_type": "markdown",
   "metadata": {},
   "source": [
    "Nos données sont contenues dans le fichier \"pricing_requests.csv\" que nous avons fabriqué grâce au notebook \"Requetes défi IA\"."
   ]
  },
  {
   "cell_type": "code",
   "execution_count": 21,
   "metadata": {},
   "outputs": [
    {
     "data": {
      "text/html": [
       "<div>\n",
       "<style scoped>\n",
       "    .dataframe tbody tr th:only-of-type {\n",
       "        vertical-align: middle;\n",
       "    }\n",
       "\n",
       "    .dataframe tbody tr th {\n",
       "        vertical-align: top;\n",
       "    }\n",
       "\n",
       "    .dataframe thead th {\n",
       "        text-align: right;\n",
       "    }\n",
       "</style>\n",
       "<table border=\"1\" class=\"dataframe\">\n",
       "  <thead>\n",
       "    <tr style=\"text-align: right;\">\n",
       "      <th></th>\n",
       "      <th>hotel_id</th>\n",
       "      <th>price</th>\n",
       "      <th>stock</th>\n",
       "      <th>city</th>\n",
       "      <th>date</th>\n",
       "      <th>language</th>\n",
       "      <th>mobile</th>\n",
       "      <th>avatar_id</th>\n",
       "      <th>request_order</th>\n",
       "      <th>avatar_nb_requests</th>\n",
       "    </tr>\n",
       "  </thead>\n",
       "  <tbody>\n",
       "    <tr>\n",
       "      <th>0</th>\n",
       "      <td>300</td>\n",
       "      <td>145</td>\n",
       "      <td>1</td>\n",
       "      <td>copenhagen</td>\n",
       "      <td>2</td>\n",
       "      <td>hungarian</td>\n",
       "      <td>0</td>\n",
       "      <td>28434</td>\n",
       "      <td>1.0</td>\n",
       "      <td>1.0</td>\n",
       "    </tr>\n",
       "    <tr>\n",
       "      <th>1</th>\n",
       "      <td>855</td>\n",
       "      <td>311</td>\n",
       "      <td>1</td>\n",
       "      <td>copenhagen</td>\n",
       "      <td>2</td>\n",
       "      <td>hungarian</td>\n",
       "      <td>0</td>\n",
       "      <td>28434</td>\n",
       "      <td>1.0</td>\n",
       "      <td>1.0</td>\n",
       "    </tr>\n",
       "    <tr>\n",
       "      <th>2</th>\n",
       "      <td>757</td>\n",
       "      <td>151</td>\n",
       "      <td>1</td>\n",
       "      <td>copenhagen</td>\n",
       "      <td>2</td>\n",
       "      <td>hungarian</td>\n",
       "      <td>0</td>\n",
       "      <td>28434</td>\n",
       "      <td>1.0</td>\n",
       "      <td>1.0</td>\n",
       "    </tr>\n",
       "    <tr>\n",
       "      <th>3</th>\n",
       "      <td>805</td>\n",
       "      <td>202</td>\n",
       "      <td>2</td>\n",
       "      <td>copenhagen</td>\n",
       "      <td>2</td>\n",
       "      <td>hungarian</td>\n",
       "      <td>0</td>\n",
       "      <td>28434</td>\n",
       "      <td>1.0</td>\n",
       "      <td>1.0</td>\n",
       "    </tr>\n",
       "    <tr>\n",
       "      <th>4</th>\n",
       "      <td>930</td>\n",
       "      <td>120</td>\n",
       "      <td>0</td>\n",
       "      <td>copenhagen</td>\n",
       "      <td>2</td>\n",
       "      <td>hungarian</td>\n",
       "      <td>0</td>\n",
       "      <td>28434</td>\n",
       "      <td>1.0</td>\n",
       "      <td>1.0</td>\n",
       "    </tr>\n",
       "  </tbody>\n",
       "</table>\n",
       "</div>"
      ],
      "text/plain": [
       "   hotel_id  price  stock        city  date   language  mobile  avatar_id  \\\n",
       "0       300    145      1  copenhagen     2  hungarian       0      28434   \n",
       "1       855    311      1  copenhagen     2  hungarian       0      28434   \n",
       "2       757    151      1  copenhagen     2  hungarian       0      28434   \n",
       "3       805    202      2  copenhagen     2  hungarian       0      28434   \n",
       "4       930    120      0  copenhagen     2  hungarian       0      28434   \n",
       "\n",
       "   request_order  avatar_nb_requests  \n",
       "0            1.0                 1.0  \n",
       "1            1.0                 1.0  \n",
       "2            1.0                 1.0  \n",
       "3            1.0                 1.0  \n",
       "4            1.0                 1.0  "
      ]
     },
     "execution_count": 21,
     "metadata": {},
     "output_type": "execute_result"
    }
   ],
   "source": [
    "pricing_requests = pd.read_csv(\"pricing_requests.csv\")\n",
    "pricing_requests.head()"
   ]
  },
  {
   "attachments": {},
   "cell_type": "markdown",
   "metadata": {},
   "source": [
    "### Utilisation du jeu de données \"features_hotels.csv\""
   ]
  },
  {
   "attachments": {},
   "cell_type": "markdown",
   "metadata": {},
   "source": [
    "Le nombre d'hôtels étant très grand, nous avons d'abord cherché à utiliser les informations à disposition sur les hôtels, afin de les regrouper plus facilement. "
   ]
  },
  {
   "cell_type": "code",
   "execution_count": 25,
   "metadata": {},
   "outputs": [],
   "source": [
    "features_hotels = pd.read_csv(\"features_hotels.csv\")\n",
    "df_train_1 = pricing_requests.merge(features_hotels, on = [\"hotel_id\",\"city\"])"
   ]
  },
  {
   "attachments": {},
   "cell_type": "markdown",
   "metadata": {},
   "source": [
    "La variable groupe est entièrement déterminée par la variable brand. Dans un même groupe, il peut y avoir des grandes différences de prix entre les marques, on a donc décidé de ne garder que la variable brand."
   ]
  },
  {
   "cell_type": "code",
   "execution_count": 41,
   "metadata": {},
   "outputs": [
    {
     "data": {
      "text/plain": [
       "<AxesSubplot: xlabel='price', ylabel='brand'>"
      ]
     },
     "execution_count": 41,
     "metadata": {},
     "output_type": "execute_result"
    },
    {
     "data": {
      "image/png": "[encoded data removed]",
      "text/plain": [
       "<Figure size 640x480 with 1 Axes>"
      ]
     },
     "metadata": {},
     "output_type": "display_data"
    }
   ],
   "source": [
    "sns.boxplot(data=df_train_1, x=\"price\", y=\"brand\")"
   ]
  },
  {
   "attachments": {},
   "cell_type": "markdown",
   "metadata": {},
   "source": [
    "Nous avons étudié (comme ci-dessus) les différentes variables pour regarder leur influence sur le prix. Celles qui ressortent le plus sont les variables brand, pool, date, stock et city. Il y en a d'autres qui ont aussi un effet, mais il est plus minime. Nous avons alors essayé d'entraîner un modèle en gardant uniquement ces variables là.\n",
    "\n",
    "Nous transformons les variables qualitatives en variables binaire avec un one-hot encoding."
   ]
  },
  {
   "cell_type": "code",
   "execution_count": 46,
   "metadata": {},
   "outputs": [],
   "source": [
    "df_dummies_1 = pd.get_dummies(data=df_train_1.loc[:,[\"price\",\"brand\",\"pool\",\"date\",\"stock\",\"city\"]], columns = ['brand','city'], drop_first=True)\n",
    "data_train, data_test = train_test_split(df_dummies_1,test_size=0.25,random_state=1)\n",
    "X_train = data_train.loc[:,data_train.columns != \"price\"]\n",
    "Y_train = data_train.loc[:,\"price\"]\n",
    "X_test = data_test.loc[:,data_train.columns != \"price\"]\n",
    "Y_test = data_test.loc[:,\"price\"]"
   ]
  },
  {
   "cell_type": "code",
   "execution_count": 48,
   "metadata": {},
   "outputs": [
    {
     "name": "stdout",
     "output_type": "stream",
     "text": [
      "791.0674326624127\n"
     ]
    }
   ],
   "source": [
    "lr = LinearRegression().fit(X_train, Y_train)\n",
    "y_pred_rf = lr.predict(X_test)\n",
    "MSE_rf = np.mean((Y_test-y_pred_rf)**2)\n",
    "print(MSE_rf)\n",
    "df_importance = pd.DataFrame({'var':X_train.columns,\"imp\":lr.coef_}).sort_values('imp',ascending=False)\n",
    "# df_importance"
   ]
  },
  {
   "attachments": {},
   "cell_type": "markdown",
   "metadata": {},
   "source": [
    "Le résultat est très mauvais avec un modèle linéaire, on va utiliser une random forest à la place."
   ]
  },
  {
   "cell_type": "code",
   "execution_count": 57,
   "metadata": {},
   "outputs": [
    {
     "name": "stdout",
     "output_type": "stream",
     "text": [
      "145.38715096207457\n"
     ]
    }
   ],
   "source": [
    "rf = RandomForestRegressor().fit(X_train, Y_train)\n",
    "df_importance = pd.DataFrame({'variable':X_train.columns,\"importance\":rf.feature_importances_}).sort_values('importance',ascending=False)\n",
    "y_pred_rf = rf.predict(X_test)\n",
    "MSE_rf = np.mean((Y_test-y_pred_rf)**2)\n",
    "print(MSE_rf)"
   ]
  },
  {
   "attachments": {},
   "cell_type": "markdown",
   "metadata": {},
   "source": [
    "Pour avoir de meilleurs résultats, nous avons modifié les prix pour que toutes les valeurs de la variable price soient entre 0 et 1."
   ]
  },
  {
   "cell_type": "code",
   "execution_count": 52,
   "metadata": {},
   "outputs": [],
   "source": [
    "def ScaleList(list):\n",
    "    xmin = min(list) \n",
    "    xmax=max(list)\n",
    "    for i, x in enumerate(list):\n",
    "        list[i] = (x-xmin) / (xmax-xmin)"
   ]
  },
  {
   "attachments": {},
   "cell_type": "markdown",
   "metadata": {},
   "source": [
    "Nous avons également essayé d'appliquer un logarithme aux prix pour améliorer les prédictions, mais le résultat n'était pas meilleur. \n",
    "\n",
    "Nous avons alors décidé de ne plus utiliser les meta variables, mais de travailler hôtel par hôtel. Toutes les informations du fichier \"features_hotels.csv\" sont contenues dans la variable hotel_id. Nous utiliserons donc cette dernière."
   ]
  },
  {
   "attachments": {},
   "cell_type": "markdown",
   "metadata": {},
   "source": [
    "### Comment gérer la variable hotel_id ?"
   ]
  },
  {
   "attachments": {},
   "cell_type": "markdown",
   "metadata": {},
   "source": [
    "#### One-hot encoding"
   ]
  },
  {
   "attachments": {},
   "cell_type": "markdown",
   "metadata": {},
   "source": [
    "Notre première approche a été la plus basique : créer une variable binaire pour chaque hôtel. Les résultats ont été meilleurs que ceux obtenus précédemment. Cependant, les algorithmes étaient extrêmement longs à converger (plusieurs heures), et cette solution n'était donc pas viable."
   ]
  },
  {
   "attachments": {},
   "cell_type": "markdown",
   "metadata": {},
   "source": [
    "#### Utilisation de fonctions carré"
   ]
  },
  {
   "attachments": {},
   "cell_type": "markdown",
   "metadata": {},
   "source": [
    "En analysant l'impact des variables sur les prédictions, les variables qui semblaient les plus importantes étaient hotel_id et date. Nous avons donc affiché l'évolution du prix hôtel par hôtel en fonction de la date."
   ]
  },
  {
   "cell_type": "code",
   "execution_count": 216,
   "metadata": {},
   "outputs": [
    {
     "data": {
      "text/plain": [
       "<AxesSubplot: xlabel='date', ylabel='price'>"
      ]
     },
     "execution_count": 216,
     "metadata": {},
     "output_type": "execute_result"
    },
    {
     "data": {
      "image/png": "[encoded data removed]",
      "text/plain": [
       "<Figure size 640x480 with 1 Axes>"
      ]
     },
     "metadata": {},
     "output_type": "display_data"
    }
   ],
   "source": [
    "df_0 = pricing_requests.loc[pricing_requests.hotel_id==0]\n",
    "\n",
    "sns.scatterplot(data=df_0, x=\"date\", y=\"price\")"
   ]
  },
  {
   "attachments": {},
   "cell_type": "markdown",
   "metadata": {},
   "source": [
    "Les prix donnent l'impression de suivre un polynôme de degré 2 en la variable date, avec un bruit additionnel. On a donc décidé de fit un polynôme de degré 2 pour chaque hôtel, et de s'en servir pour faire les prédictions."
   ]
  },
  {
   "cell_type": "code",
   "execution_count": 214,
   "metadata": {},
   "outputs": [],
   "source": [
    "def SubmissionDegree2(train, test):\n",
    "    res = []\n",
    "    for k in test.index:\n",
    "        df_k = train[(train.hotel_id == test.loc[k,\"hotel_id\"])&(train.request_number==1)]\n",
    "        a,b,c = np.polyfit(df_k.date, df_k.price, deg = 2)\n",
    "        x = test.loc[k,\"date\"]\n",
    "        f_x = c + b*x + a*(x**2)\n",
    "        min_k, max_k = min(df_k.price), max(df_k.price)\n",
    "        if f_x > max_k:\n",
    "            f_x = max_k\n",
    "        if f_x < min_k:\n",
    "            f_x = min_k\n",
    "        res.append(f_x)\n",
    "    return pd.DataFrame({\"index\":test.index,\"price\":res})"
   ]
  },
  {
   "attachments": {},
   "cell_type": "markdown",
   "metadata": {},
   "source": [
    "Ce code n'est pas optimisé puisqu'on recalcule le polynôme à chaque nouvelle ligne du jeu de test. Cependant, comme ce jeu de données est relativement petit, le code tournait presque instantanément et nous n'avons pas cherché à l'optimiser.\n",
    "\n",
    "Avec ce modèle, nous obtenions un score autour de 35, ce qui n'est pas mauvais, mais pas non plus transcendant."
   ]
  },
  {
   "attachments": {},
   "cell_type": "markdown",
   "metadata": {},
   "source": [
    "#### Target encoding"
   ]
  },
  {
   "attachments": {},
   "cell_type": "markdown",
   "metadata": {},
   "source": [
    "Nous avons ensuite cherché à remplacer la variable hotel_id par une autre variable plus simple à exploiter pour les algorithmes. Nous avons eu l'idée de calculer les moyennes des prix pour chaque hôtel, et d'utiliser cette variable à la place."
   ]
  },
  {
   "cell_type": "code",
   "execution_count": 65,
   "metadata": {},
   "outputs": [],
   "source": [
    "hotel_price = pricing_requests.groupby('hotel_id').price.mean()\n",
    "df_train_2 = pricing_requests.merge(hotel_price, on='hotel_id', how='left', suffixes=(\"\", \"_mean\"))\n",
    "df_dummies_2 = pd.get_dummies(data=df_train_2.loc[:,[\"price\",\"price_mean\",\"language\",\"date\",\"stock\",\"city\"]], columns = ['language','city'], drop_first=True)\n",
    "\n",
    "data_train, data_test = train_test_split(df_dummies_2,test_size=0.25,random_state=1)\n",
    "X_train = data_train.loc[:,data_train.columns != \"price\"]\n",
    "Y_train = data_train.loc[:,\"price\"]\n",
    "X_test = data_test.loc[:,data_train.columns != \"price\"]\n",
    "Y_test = data_test.loc[:,\"price\"]"
   ]
  },
  {
   "cell_type": "code",
   "execution_count": 66,
   "metadata": {},
   "outputs": [
    {
     "name": "stdout",
     "output_type": "stream",
     "text": [
      "9.397245870982461\n"
     ]
    }
   ],
   "source": [
    "rf = RandomForestRegressor().fit(X_train, Y_train)\n",
    "df_importance = pd.DataFrame({'variable':X_train.columns,\"importance\":rf.feature_importances_}).sort_values('importance',ascending=False)\n",
    "y_pred_rf = rf.predict(X_test)\n",
    "MSE_rf = np.mean((Y_test-y_pred_rf)**2)\n",
    "print(MSE_rf)"
   ]
  },
  {
   "attachments": {},
   "cell_type": "markdown",
   "metadata": {},
   "source": [
    "On obtient des résultats qui sont bien meilleurs qu'avant. Cependant, lors des soumissions les scores ne sont toujours pas terribles (en tout cas, bien supérieurs à 9). Si nous arrivons plutôt bien à prédire nos données, mais pas les données de test, c'est qu'il y a une différence entre les 2 jeux de données."
   ]
  },
  {
   "attachments": {},
   "cell_type": "markdown",
   "metadata": {},
   "source": [
    "## II - Comparaison de nos données d'entraînement aux données de test : adversarial validation"
   ]
  },
  {
   "attachments": {},
   "cell_type": "markdown",
   "metadata": {},
   "source": [
    "On va à présent créer un modèle de classification binaire afin de voir si les 2 jeux de données sont distinguables facilement."
   ]
  },
  {
   "cell_type": "code",
   "execution_count": 70,
   "metadata": {},
   "outputs": [],
   "source": [
    "test_sample = pd.read_csv(\"test_set.csv\").drop([\"index\",\"order_requests\"], axis=1)\n",
    "train = pricing_requests.loc[pricing_requests.avatar_nb_requests < 5,:]"
   ]
  },
  {
   "attachments": {},
   "cell_type": "markdown",
   "metadata": {},
   "source": [
    "Chaque avatar du jeu de test a fait maximum 4 requêtes, on filtre donc nos données pour correspondre au mieux au jeu de test."
   ]
  },
  {
   "attachments": {},
   "cell_type": "markdown",
   "metadata": {},
   "source": [
    "La fonction suivante permet d'ajouter au jeu de test la colonne avatar_nb_request qui permet de numéroter les requêtes de chaque avatar afin d'essayer de capter un lien entre le nombre de requêtes effectuées et l'augmentation des prix."
   ]
  },
  {
   "cell_type": "code",
   "execution_count": 69,
   "metadata": {},
   "outputs": [],
   "source": [
    "def AddRequestOrder(df, request_order = 1):\n",
    "    data = df.copy()\n",
    "    data[\"request_order\"] = np.nan\n",
    "    data[\"avatar_nb_requests\"] = np.nan\n",
    "    avatar_id = data.loc[0,\"avatar_id\"]\n",
    "    date = data.loc[0,\"date\"]\n",
    "    city = data.loc[0,\"city\"]\n",
    "    language = data.loc[0,\"language\"]\n",
    "    mobile = data.loc[0,\"mobile\"]\n",
    "    avatar_nb_requests = 1\n",
    "    for k in range(len(data)):\n",
    "        if data.loc[k,\"avatar_id\"] != avatar_id :\n",
    "            avatar_id = data.loc[k,\"avatar_id\"]\n",
    "            date = data.loc[k,\"date\"]\n",
    "            city = data.loc[k,\"city\"]\n",
    "            language = data.loc[k,\"language\"]\n",
    "            mobile = data.loc[k,\"mobile\"]\n",
    "            avatar_nb_requests = 1\n",
    "            request_order += 1\n",
    "        elif data.loc[k,\"date\"] != date or data.loc[k,\"city\"] != city or data.loc[k,\"language\"] != language or data.loc[k,\"mobile\"] != mobile:\n",
    "            date = data.loc[k,\"date\"]\n",
    "            city = data.loc[k,\"city\"]\n",
    "            language = data.loc[k,\"language\"]\n",
    "            mobile = data.loc[k,\"mobile\"]\n",
    "            avatar_nb_requests += 1\n",
    "            request_order += 1\n",
    "        data.loc[k,\"request_order\"] = request_order\n",
    "        data.loc[k,\"avatar_nb_requests\"] = avatar_nb_requests\n",
    "    return data"
   ]
  },
  {
   "cell_type": "code",
   "execution_count": 71,
   "metadata": {},
   "outputs": [],
   "source": [
    "test = AddRequestOrder(test_sample)\n",
    "\n",
    "# On garde uniquement les variables numériques dans un premier temps\n",
    "X_test  = test.select_dtypes(include=['number']).copy()\n",
    "X_train = train.select_dtypes(include=['number']).copy()\n",
    "\n",
    "X_train = X_train.drop(['price'], axis=1)\n",
    "\n",
    "# on ajoute les labels correspondants\n",
    "X_train[\"AV_label\"] = 0\n",
    "X_test[\"AV_label\"]  = 1\n",
    "\n",
    "# On regroupe les 2 DF\n",
    "all_data = pd.concat([X_train, X_test], axis=0, ignore_index=True)\n",
    "\n",
    "# On melange les lignes entre elles\n",
    "all_data_shuffled = all_data.sample(frac=1)\n",
    "\n",
    "# On cree notre matrice pour XGBoost \n",
    "X = all_data_shuffled.drop(['AV_label'], axis=1)\n",
    "X = X.drop(['avatar_id','request_order','hotel_id'], axis=1)\n",
    "y = all_data_shuffled['AV_label']\n",
    "XGBdata = xgb.DMatrix(data=X,label=y)\n",
    "\n",
    "# our XGBoost parameters\n",
    "params = {\"objective\":\"binary:logistic\",\n",
    "          \"eval_metric\":\"logloss\",\n",
    "          'learning_rate': 0.05,\n",
    "          'max_depth': 5, }"
   ]
  },
  {
   "cell_type": "code",
   "execution_count": 72,
   "metadata": {},
   "outputs": [
    {
     "name": "stdout",
     "output_type": "stream",
     "text": [
      "199    0.827399\n",
      "Name: test-auc-mean, dtype: float64\n"
     ]
    }
   ],
   "source": [
    "# perform cross validation with XGBoost\n",
    "cross_val_results = cv(dtrain=XGBdata, params=params, \n",
    "                       nfold=5, metrics=\"auc\", \n",
    "                       num_boost_round=200,early_stopping_rounds=20,\n",
    "                       as_pandas=True)\n",
    "\n",
    "# print out the final result\n",
    "print((cross_val_results[\"test-auc-mean\"]).tail(1))"
   ]
  },
  {
   "attachments": {},
   "cell_type": "markdown",
   "metadata": {},
   "source": [
    "On obtient un AUC de 0.82. Le classifieur binaire est capable de plutôt bien déterminer à quel jeu de donnée appartient une ligne, alors qu'il n'utilise même pas les variables language et city."
   ]
  },
  {
   "cell_type": "code",
   "execution_count": 74,
   "metadata": {},
   "outputs": [
    {
     "name": "stderr",
     "output_type": "stream",
     "text": [
      "c:\\Users\\Hugo\\anaconda3\\envs\\AIF\\lib\\site-packages\\xgboost\\sklearn.py:1421: UserWarning: `use_label_encoder` is deprecated in 1.7.0.\n",
      "  warnings.warn(\"`use_label_encoder` is deprecated in 1.7.0.\")\n"
     ]
    },
    {
     "data": {
      "image/png": "[encoded data removed]",
      "text/plain": [
       "<Figure size 1200x400 with 1 Axes>"
      ]
     },
     "metadata": {},
     "output_type": "display_data"
    }
   ],
   "source": [
    "classifier = XGBClassifier(eval_metric='logloss',use_label_encoder=False)\n",
    "classifier.fit(X, y)\n",
    "fig, ax = plt.subplots(figsize=(12,4))\n",
    "plot_importance(classifier, ax=ax)\n",
    "plt.show()"
   ]
  },
  {
   "attachments": {},
   "cell_type": "markdown",
   "metadata": {},
   "source": [
    "Les variables stock et date permettent au classifieur de déterminer à quel DF appartient une ligne, c'est donc sûrement que nos distributions des dates et du stock ne sont pas les mêmes que celles du jeu de test."
   ]
  },
  {
   "cell_type": "code",
   "execution_count": 82,
   "metadata": {},
   "outputs": [
    {
     "name": "stderr",
     "output_type": "stream",
     "text": [
      "C:\\Users\\Hugo\\AppData\\Local\\Temp\\ipykernel_5108\\2881123250.py:4: UserWarning: Matplotlib is currently using module://matplotlib_inline.backend_inline, which is a non-GUI backend, so cannot show the figure.\n",
      "  fig.show()\n"
     ]
    },
    {
     "data": {
      "image/png": "[encoded data removed]",
      "text/plain": [
       "<Figure size 640x480 with 2 Axes>"
      ]
     },
     "metadata": {},
     "output_type": "display_data"
    }
   ],
   "source": [
    "fig, ax =plt.subplots(1,2)\n",
    "sns.histplot(data=pricing_requests,x=\"date\", ax=ax[0])\n",
    "sns.histplot(data=test,x=\"date\", ax=ax[1])\n",
    "fig.show()\n"
   ]
  },
  {
   "attachments": {},
   "cell_type": "markdown",
   "metadata": {},
   "source": [
    "Les dates du jeu de test sont regroupées dans 3 plages séparées et ne sont pas du tout choisies aléatoirement comme nous l'avions imaginé. Il est donc logique que la classifieur utilise cette variable pour discriminer les jeux de données.\n",
    "\n",
    "Le graphique de gauche est faussé car il est effectué avec la totalité de nos données et pas uniquement sur celles que nous avions à ce moment là."
   ]
  },
  {
   "cell_type": "code",
   "execution_count": 93,
   "metadata": {},
   "outputs": [
    {
     "data": {
      "text/plain": [
       "0"
      ]
     },
     "execution_count": 93,
     "metadata": {},
     "output_type": "execute_result"
    }
   ],
   "source": [
    "max(classifier.predict(all_data_shuffled[X.columns]))"
   ]
  },
  {
   "attachments": {},
   "cell_type": "markdown",
   "metadata": {},
   "source": [
    "Quand on regarde de plus près le classifieur, on se rend compte qu'il prédit 0 tout le temps. Cela vient sûrement du fait que les 2 jeux de données sont très déséquilibrés : il y a beaucoup plus de données d'entrainement que de test. Pour remedier à ça nous avons imaginé une solution : \n",
    "\n",
    "Boucle :\n",
    "\n",
    "$\\rightarrow$ choisir autant de lignes du train set qu'il y a de lignes dans le test set\n",
    "\n",
    "$\\rightarrow$ fit un classifieur binaire avec ces données\n",
    "\n",
    "$\\rightarrow$ utiliser ce classifieur pour prédire les données restantes\n",
    "\n",
    "Fin\n",
    "\n",
    "\n",
    "Pour chaque ligne du train set on compte alors le nombre de fois qu'elle a été classée comme étant dans le test. Plus une ligne a été souvent classée comme appartenant au test set, plus elle a de chance d'y ressembler. On va alors selectionner les lignes qui ont été classées souvent comme appartenant au test set et les garder pour la suite."
   ]
  },
  {
   "cell_type": "code",
   "execution_count": 147,
   "metadata": {},
   "outputs": [],
   "source": [
    "def ApplyBinClass(df_train, df_test):\n",
    "    train = df_train.copy().sample(frac=1).reset_index(drop=True)\n",
    "    test = df_test.copy().sample(frac=1).reset_index(drop=True)\n",
    "    price = train.price\n",
    "    train = train.drop(\"price\", axis=1)\n",
    "    train['nb_class_test'] = 0\n",
    "    train[\"AV_label\"] = 0\n",
    "    test[\"AV_label\"]  = 1\n",
    "    k = 0\n",
    "    n = len(test)\n",
    "    while k + n < len(train):\n",
    "        X_train = train.loc[k:k+n,train.columns != \"nb_class_test\"]\n",
    "        all_data = pd.concat([X_train, test[X_train.columns]], axis=0, ignore_index=True)\n",
    "        all_data_shuffled = all_data.sample(frac=1)\n",
    "        X = all_data_shuffled.drop(['AV_label'], axis=1).select_dtypes(include=['number'])\n",
    "        X = X.drop(['avatar_id','request_order'], axis=1)\n",
    "        y = all_data_shuffled['AV_label']\n",
    "        classifier = XGBClassifier(eval_metric='logloss',use_label_encoder=False)\n",
    "        classifier.fit(X, y)\n",
    "        fig, ax = plt.subplots(figsize=(12,4))\n",
    "        plot_importance(classifier, ax=ax)\n",
    "        plt.show()\n",
    "        prediction_test = classifier.predict(train[X.columns])\n",
    "        train['nb_class_test'] += prediction_test\n",
    "        k += n\n",
    "    train[\"price\"] = price\n",
    "    return train.drop(\"AV_label\", axis=1)"
   ]
  },
  {
   "cell_type": "code",
   "execution_count": null,
   "metadata": {},
   "outputs": [],
   "source": [
    "df_bin_class = ApplyBinClass(train, test)"
   ]
  },
  {
   "cell_type": "code",
   "execution_count": 149,
   "metadata": {},
   "outputs": [
    {
     "data": {
      "text/plain": [
       "(array([493951.,  13653.,  10499.,   7932.,   7333.,   6011.,   7091.,\n",
       "          5019.,   6310.,  10302.]),\n",
       " array([ 0. ,  8.5, 17. , 25.5, 34. , 42.5, 51. , 59.5, 68. , 76.5, 85. ]),\n",
       " <BarContainer object of 10 artists>)"
      ]
     },
     "execution_count": 149,
     "metadata": {},
     "output_type": "execute_result"
    },
    {
     "data": {
      "image/png": "[encoded data removed]",
      "text/plain": [
       "<Figure size 640x480 with 1 Axes>"
      ]
     },
     "metadata": {},
     "output_type": "display_data"
    }
   ],
   "source": [
    "plt.hist(df_bin_class.nb_class_test)"
   ]
  },
  {
   "attachments": {},
   "cell_type": "markdown",
   "metadata": {},
   "source": [
    "Gardons uniquement les lignes qui ont été classées comme appartenant au test set au moins 30 fois. Normalement elles devraient beaucoup y ressembler."
   ]
  },
  {
   "cell_type": "code",
   "execution_count": 164,
   "metadata": {},
   "outputs": [],
   "source": [
    "df_train_3 = df_bin_class[df_bin_class.nb_class_test > 30]"
   ]
  },
  {
   "cell_type": "code",
   "execution_count": 153,
   "metadata": {},
   "outputs": [
    {
     "data": {
      "text/plain": [
       "(array([10015.,  6434.,     0.,  2361.,  8829.,  4562.,     0.,     0.,\n",
       "         3719.,  8921.]),\n",
       " array([ 0.,  4.,  8., 12., 16., 20., 24., 28., 32., 36., 40.]),\n",
       " <BarContainer object of 10 artists>)"
      ]
     },
     "execution_count": 153,
     "metadata": {},
     "output_type": "execute_result"
    },
    {
     "data": {
      "image/png": "[encoded data removed]",
      "text/plain": [
       "<Figure size 640x480 with 1 Axes>"
      ]
     },
     "metadata": {},
     "output_type": "display_data"
    }
   ],
   "source": [
    "plt.hist(df_train_3.date)"
   ]
  },
  {
   "attachments": {},
   "cell_type": "markdown",
   "metadata": {},
   "source": [
    "Cette fois-ci, les dates des lignes d'entrainement gardées semblent avoir la même distribution que celles du test set."
   ]
  },
  {
   "cell_type": "code",
   "execution_count": 165,
   "metadata": {},
   "outputs": [],
   "source": [
    "hotel_price = df_train_3.groupby('hotel_id').price.mean()\n",
    "df_train_3 = df_train_3.merge(hotel_price, on='hotel_id', how='left', suffixes=(\"\", \"_mean\"))\n",
    "# hotel_date = df_train_3.groupby('hotel_id').date.mean()\n",
    "# df_train_3 = df_train_3.merge(hotel_date, on='hotel_id', how='left', suffixes=(\"\", \"_mean\"))\n",
    "df_dummies_3 = pd.get_dummies(data=df_train_3.loc[:,[\"price\",\"price_mean\",\"date_mean\",\"language\",\"date\",\"stock\",\"city\"]], columns = ['language','city'], drop_first=True)\n",
    "\n",
    "data_train, data_test = train_test_split(df_dummies_3,test_size=0.25,random_state=1)\n",
    "X_train = data_train.loc[:,data_train.columns != \"price\"]\n",
    "Y_train = data_train.loc[:,\"price\"]\n",
    "X_test = data_test.loc[:,data_train.columns != \"price\"]\n",
    "Y_test = data_test.loc[:,\"price\"]"
   ]
  },
  {
   "cell_type": "code",
   "execution_count": 166,
   "metadata": {},
   "outputs": [
    {
     "name": "stdout",
     "output_type": "stream",
     "text": [
      "9.649830398852604\n"
     ]
    }
   ],
   "source": [
    "rf = RandomForestRegressor().fit(X_train, Y_train)\n",
    "df_importance = pd.DataFrame({'variable':X_train.columns,\"importance\":rf.feature_importances_}).sort_values('importance',ascending=False)\n",
    "y_pred_rf = rf.predict(X_test)\n",
    "MSE_rf = np.mean((Y_test-y_pred_rf)**2)\n",
    "print(MSE_rf)"
   ]
  },
  {
   "attachments": {},
   "cell_type": "markdown",
   "metadata": {},
   "source": [
    "Les résultats étant encourageants, nous avons décidé de changer notre manière de requêter afin que nos données ressemblent au jeu de test. Pour cela, nous avons essayé de reproduire la même distribution de date, de mobile et de la paire language-city au cas où ces 2 variables étaient liées. \n",
    "\n",
    "Pour cela, nous avons stocké dans une liste toutes les paires language-city du test set (en conservant les doublons, donc autant de paires que de lignes dans le test set). Pour chaque requête, nous avons tiré aléatoirement dans cette liste pour choisir le langage et la ville de la requête. Ainsi, les combinaisons n'existant pas dans le jeu de test ne sont pas dans nos nouvelles données, et les paires les plus présentes dans le test set le sont aussi dans nos données.\n",
    "\n",
    "Pour la variable mobile, nous avons calculé la proportion de 1 dans le test set et avons simulé des loi de bernouilli de paramètre cette proportion.\n",
    "\n",
    "Enfin, pour la variable date, nous avons stocké dans une grande liste les dates de chaque avatar. Certains ne faisaient qu'une seule requêtes, mais d'autres en faisaient plusieurs. En faisant cela, on réalisait des requêtes à des successions de dates présentes dans le test set afin d'augmenter notre ressemblance.\n",
    "\n",
    "(Les codes sont dans le notebook sur les requêtes)"
   ]
  },
  {
   "attachments": {},
   "cell_type": "markdown",
   "metadata": {},
   "source": [
    "## Analyse plus détaillée des variables"
   ]
  },
  {
   "attachments": {},
   "cell_type": "markdown",
   "metadata": {},
   "source": [
    "### Lien entre language et city"
   ]
  },
  {
   "attachments": {},
   "cell_type": "markdown",
   "metadata": {},
   "source": [
    "En regardant les features_importances_ de nos random forests, on avait l'impression que la variable language avait un effet très négligeable. Cependant, en regardant quelques lignes plus en détail on avait l'impression que les prix étaient plus faible lorsqu'un avatar faisait une requête dans son pays. C'est à dire quand language et city correspondent au même pays. Exemple : city = \"paris\" et language = \"french\".\n",
    "\n",
    "Pour vérifier cet effet, nous avons alors créé les fonctions suivantes :"
   ]
  },
  {
   "cell_type": "code",
   "execution_count": null,
   "metadata": {},
   "outputs": [],
   "source": [
    "def TestSameCountry(city, language):\n",
    "    if city == \"amsterdam\" and language == \"dutch\":\n",
    "        return True\n",
    "    if city == \"copenhagen\" and language == \"danish\":\n",
    "        return True\n",
    "    if city == \"madrid\" and language == \"spanish\":\n",
    "        return True\n",
    "    if city == \"paris\" and language == \"french\":\n",
    "        return True\n",
    "    if city == \"rome\" and language == \"italian\":\n",
    "        return True\n",
    "    if city == \"sofia\" and language == \"bulgarian\":\n",
    "        return True\n",
    "    if city == \"valleta\" and language == \"maltese\":\n",
    "        return True\n",
    "    if city == \"vienna\" and language == 'austrian':\n",
    "        return True\n",
    "    if city == \"vilnius\" and language == \"lithuanian\":\n",
    "        return True\n",
    "    else:\n",
    "        return False\n",
    "\n",
    "def SameCountry(db):\n",
    "    data = db.copy()\n",
    "    data[\"same_country\"] = 0\n",
    "    for k in range(len(data)):\n",
    "        if TestSameCountry(data.loc[k,\"city\"], data.loc[k,\"language\"]):\n",
    "            data.loc[k,\"same_country\"] = 1\n",
    "    return data"
   ]
  },
  {
   "attachments": {},
   "cell_type": "markdown",
   "metadata": {},
   "source": [
    "Malheureusement, nous n'avons rien pu conclure de très intéressant grâce à elles."
   ]
  },
  {
   "attachments": {},
   "cell_type": "markdown",
   "metadata": {},
   "source": [
    "### Déterminer l'impact de chaque variable"
   ]
  },
  {
   "attachments": {},
   "cell_type": "markdown",
   "metadata": {},
   "source": [
    "Afin de déterminer plus précisément l'impact de chaque variable, nous avons décidé de faire touner un modèle linéaire sur chaque hôtel séparément. Les modèles linéaires sont moins performants que des forêts aléatoires, mais ils ont l'avantage de pouvoir donner les coefficients en sortie, et donc de pouvoir interpréter chaque variable.\n",
    "\n",
    "En particulier, on peut étudier chaque modalité de la variable language. En utilisant du one-hot encoding, ces coefficients correspondent directement au prix qu'il faut rajouter/ enlever à la prédiction en fonction du langage.\n",
    "\n",
    "Pour avoir des coefficients robustes, nous avons fait tourner un modèle linéaire pour chaque hôtel, gardé uniquement ceux avec un MSE < 20 pour ne pas avoir de modèle trop mauvais. Pour chaque variable, nous avons ensuite effectué une moyenne de leur coefficients pour estimer leur impact global."
   ]
  },
  {
   "cell_type": "code",
   "execution_count": 218,
   "metadata": {},
   "outputs": [],
   "source": [
    "def CalcImpactVariables(pricing_requests):\n",
    "    nb_models = 0\n",
    "    for k, hotel_id in enumerate(np.sort(pricing_requests.loc[~pricing_requests.hotel_id.isin(test_sample.hotel_id.unique()),:].hotel_id.unique())):\n",
    "        df_hotel_k = pricing_requests.loc[(pricing_requests.hotel_id==hotel_id) & (pricing_requests.avatar_nb_requests<4),:]\n",
    "        bdd_dummies = pd.get_dummies(data=df_hotel_k.drop([\"hotel_id\",\"city\",\"avatar_id\",\"request_order\"], axis=1), columns = ['language'], drop_first=True)\n",
    "        X_train = bdd_dummies.loc[:,bdd_dummies.columns != \"price\"]\n",
    "        Y_train = bdd_dummies.loc[:,\"price\"]\n",
    "        lr = LinearRegression().fit(X_train, Y_train)\n",
    "        y_pred_lr = lr.predict(X_train)\n",
    "        MSE_lr = np.mean((Y_train-y_pred_lr)**2)\n",
    "        if MSE_lr < 20 :\n",
    "            if nb_models == 0:\n",
    "                list_var = [x for x in X_train.columns]\n",
    "                list_importance = lr.coef_\n",
    "                nb_models = 1\n",
    "            else : \n",
    "                list_var_temp = [x for x in X_train.columns]\n",
    "                list_importance_temp = lr.coef_\n",
    "                for k, variable in enumerate(list_var):\n",
    "                    my_ind = list_var_temp.index(variable)\n",
    "                    list_importance[k] += list_importance_temp[my_ind]\n",
    "            nb_models += 1\n",
    "    df_importance = pd.DataFrame({'variables':list_var,\"importances\":list_importance/nb_models})\n",
    "    return df_importance\n",
    "\n",
    "def GetCoeffLR(df, variable):\n",
    "    return df.loc[df.variables==variable,\"importances\"].values[0]\n",
    "\n",
    "def AjusterPrixLangage(df, df_impact_variables, list_prices):\n",
    "    list_prix = np.copy(list_prices)\n",
    "    for i, k in enumerate(df.index):\n",
    "        if df.loc[k,\"language\"] != \"austrian\":\n",
    "            alpha_3 = GetCoeffLR(df_impact_variables, 'language_' + df.loc[k,\"language\"])\n",
    "        else: alpha_3 = 0\n",
    "        print(list_prix[i], list_prix[i] + alpha_3)\n",
    "        list_prix[i] += alpha_3\n",
    "    return list_prix"
   ]
  },
  {
   "cell_type": "code",
   "execution_count": 223,
   "metadata": {},
   "outputs": [
    {
     "data": {
      "text/html": [
       "<div>\n",
       "<style scoped>\n",
       "    .dataframe tbody tr th:only-of-type {\n",
       "        vertical-align: middle;\n",
       "    }\n",
       "\n",
       "    .dataframe tbody tr th {\n",
       "        vertical-align: top;\n",
       "    }\n",
       "\n",
       "    .dataframe thead th {\n",
       "        text-align: right;\n",
       "    }\n",
       "</style>\n",
       "<table border=\"1\" class=\"dataframe\">\n",
       "  <thead>\n",
       "    <tr style=\"text-align: right;\">\n",
       "      <th></th>\n",
       "      <th>variables</th>\n",
       "      <th>importances</th>\n",
       "    </tr>\n",
       "  </thead>\n",
       "  <tbody>\n",
       "    <tr>\n",
       "      <th>12</th>\n",
       "      <td>language_finnish</td>\n",
       "      <td>2.217274</td>\n",
       "    </tr>\n",
       "    <tr>\n",
       "      <th>29</th>\n",
       "      <td>language_swedish</td>\n",
       "      <td>1.346836</td>\n",
       "    </tr>\n",
       "    <tr>\n",
       "      <th>9</th>\n",
       "      <td>language_danish</td>\n",
       "      <td>0.376142</td>\n",
       "    </tr>\n",
       "    <tr>\n",
       "      <th>3</th>\n",
       "      <td>avatar_nb_requests</td>\n",
       "      <td>0.087427</td>\n",
       "    </tr>\n",
       "    <tr>\n",
       "      <th>1</th>\n",
       "      <td>date</td>\n",
       "      <td>-0.014112</td>\n",
       "    </tr>\n",
       "    <tr>\n",
       "      <th>0</th>\n",
       "      <td>stock</td>\n",
       "      <td>-0.155664</td>\n",
       "    </tr>\n",
       "    <tr>\n",
       "      <th>2</th>\n",
       "      <td>mobile</td>\n",
       "      <td>-0.221342</td>\n",
       "    </tr>\n",
       "    <tr>\n",
       "      <th>7</th>\n",
       "      <td>language_cypriot</td>\n",
       "      <td>-0.369406</td>\n",
       "    </tr>\n",
       "    <tr>\n",
       "      <th>24</th>\n",
       "      <td>language_portuguese</td>\n",
       "      <td>-1.289378</td>\n",
       "    </tr>\n",
       "    <tr>\n",
       "      <th>17</th>\n",
       "      <td>language_irish</td>\n",
       "      <td>-2.052548</td>\n",
       "    </tr>\n",
       "    <tr>\n",
       "      <th>19</th>\n",
       "      <td>language_latvian</td>\n",
       "      <td>-2.192267</td>\n",
       "    </tr>\n",
       "    <tr>\n",
       "      <th>15</th>\n",
       "      <td>language_greek</td>\n",
       "      <td>-2.197767</td>\n",
       "    </tr>\n",
       "    <tr>\n",
       "      <th>28</th>\n",
       "      <td>language_spanish</td>\n",
       "      <td>-2.454725</td>\n",
       "    </tr>\n",
       "    <tr>\n",
       "      <th>20</th>\n",
       "      <td>language_lithuanian</td>\n",
       "      <td>-2.739120</td>\n",
       "    </tr>\n",
       "    <tr>\n",
       "      <th>23</th>\n",
       "      <td>language_polish</td>\n",
       "      <td>-2.930015</td>\n",
       "    </tr>\n",
       "    <tr>\n",
       "      <th>22</th>\n",
       "      <td>language_maltese</td>\n",
       "      <td>-3.061640</td>\n",
       "    </tr>\n",
       "    <tr>\n",
       "      <th>27</th>\n",
       "      <td>language_slovene</td>\n",
       "      <td>-4.121853</td>\n",
       "    </tr>\n",
       "    <tr>\n",
       "      <th>21</th>\n",
       "      <td>language_luxembourgish</td>\n",
       "      <td>-4.125363</td>\n",
       "    </tr>\n",
       "    <tr>\n",
       "      <th>13</th>\n",
       "      <td>language_french</td>\n",
       "      <td>-4.253327</td>\n",
       "    </tr>\n",
       "    <tr>\n",
       "      <th>4</th>\n",
       "      <td>language_belgian</td>\n",
       "      <td>-4.289431</td>\n",
       "    </tr>\n",
       "    <tr>\n",
       "      <th>6</th>\n",
       "      <td>language_croatian</td>\n",
       "      <td>-4.293199</td>\n",
       "    </tr>\n",
       "    <tr>\n",
       "      <th>8</th>\n",
       "      <td>language_czech</td>\n",
       "      <td>-4.368287</td>\n",
       "    </tr>\n",
       "    <tr>\n",
       "      <th>14</th>\n",
       "      <td>language_german</td>\n",
       "      <td>-4.373530</td>\n",
       "    </tr>\n",
       "    <tr>\n",
       "      <th>10</th>\n",
       "      <td>language_dutch</td>\n",
       "      <td>-4.381452</td>\n",
       "    </tr>\n",
       "    <tr>\n",
       "      <th>18</th>\n",
       "      <td>language_italian</td>\n",
       "      <td>-4.486027</td>\n",
       "    </tr>\n",
       "    <tr>\n",
       "      <th>11</th>\n",
       "      <td>language_estonian</td>\n",
       "      <td>-6.632479</td>\n",
       "    </tr>\n",
       "    <tr>\n",
       "      <th>25</th>\n",
       "      <td>language_romanian</td>\n",
       "      <td>-7.038078</td>\n",
       "    </tr>\n",
       "    <tr>\n",
       "      <th>5</th>\n",
       "      <td>language_bulgarian</td>\n",
       "      <td>-7.060126</td>\n",
       "    </tr>\n",
       "    <tr>\n",
       "      <th>16</th>\n",
       "      <td>language_hungarian</td>\n",
       "      <td>-8.559802</td>\n",
       "    </tr>\n",
       "    <tr>\n",
       "      <th>26</th>\n",
       "      <td>language_slovakian</td>\n",
       "      <td>-8.904925</td>\n",
       "    </tr>\n",
       "  </tbody>\n",
       "</table>\n",
       "</div>"
      ],
      "text/plain": [
       "                 variables  importances\n",
       "12        language_finnish     2.217274\n",
       "29        language_swedish     1.346836\n",
       "9          language_danish     0.376142\n",
       "3       avatar_nb_requests     0.087427\n",
       "1                     date    -0.014112\n",
       "0                    stock    -0.155664\n",
       "2                   mobile    -0.221342\n",
       "7         language_cypriot    -0.369406\n",
       "24     language_portuguese    -1.289378\n",
       "17          language_irish    -2.052548\n",
       "19        language_latvian    -2.192267\n",
       "15          language_greek    -2.197767\n",
       "28        language_spanish    -2.454725\n",
       "20     language_lithuanian    -2.739120\n",
       "23         language_polish    -2.930015\n",
       "22        language_maltese    -3.061640\n",
       "27        language_slovene    -4.121853\n",
       "21  language_luxembourgish    -4.125363\n",
       "13         language_french    -4.253327\n",
       "4         language_belgian    -4.289431\n",
       "6        language_croatian    -4.293199\n",
       "8           language_czech    -4.368287\n",
       "14         language_german    -4.373530\n",
       "10          language_dutch    -4.381452\n",
       "18        language_italian    -4.486027\n",
       "11       language_estonian    -6.632479\n",
       "25       language_romanian    -7.038078\n",
       "5       language_bulgarian    -7.060126\n",
       "16      language_hungarian    -8.559802\n",
       "26      language_slovakian    -8.904925"
      ]
     },
     "execution_count": 223,
     "metadata": {},
     "output_type": "execute_result"
    }
   ],
   "source": [
    "impact_variables = CalcImpactVariables(pricing_requests)\n",
    "impact_variables.sort_values(\"importances\", ascending=False)"
   ]
  },
  {
   "attachments": {},
   "cell_type": "markdown",
   "metadata": {},
   "source": [
    "On remarque quelque chose d'important : en changeant de langage on peut avoir un prix qui varie d'une dizaine d'euros.\n",
    "\n",
    "Nous avons alors essayé de supprimer la variable language de nos modèles. Nous avons effectué nos prédictions normalement, puis nous avons ajouté/soustrait aux predictions le prix correspondant à chaque langage. \n",
    "\n",
    "Les résultats étaient légèrement meilleurs, mais nous ne sommes pas parvenus à descendre en dessous de 26 de score."
   ]
  },
  {
   "cell_type": "code",
   "execution_count": null,
   "metadata": {},
   "outputs": [],
   "source": []
  }
 ],
 "metadata": {
  "kernelspec": {
   "display_name": "AIF",
   "language": "python",
   "name": "python3"
  },
  "language_info": {
   "codemirror_mode": {
    "name": "ipython",
    "version": 3
   },
   "file_extension": ".py",
   "mimetype": "text/x-python",
   "name": "python",
   "nbconvert_exporter": "python",
   "pygments_lexer": "ipython3",
   "version": "3.8.13"
  },
  "orig_nbformat": 4,
  "vscode": {
   "interpreter": {
    "hash": "e6f94090452fa9c32f5a802a314c6b5b13ae6a60f4af40408d6d7196c6ed1613"
   }
  }
 },
 "nbformat": 4,
 "nbformat_minor": 2
}
